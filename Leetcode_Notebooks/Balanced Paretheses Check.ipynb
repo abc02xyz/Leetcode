{
 "cells": [
  {
   "cell_type": "code",
   "execution_count": null,
   "metadata": {},
   "outputs": [],
   "source": [
    "class stack(object):\n",
    "    \n",
    "    def __init__(self):\n",
    "        return self.items\n",
    "    \n",
    "    def isEmpty(self):\n",
    "        return self.items != []\n",
    "    \n",
    "    d"
   ]
  },
  {
   "cell_type": "code",
   "execution_count": 25,
   "metadata": {},
   "outputs": [],
   "source": [
    "def balance_check(s):\n",
    "    \n",
    "    # we know odd or even number\n",
    "    if len(s)%2 !=0:\n",
    "        return False\n",
    "    \n",
    "    opening = set('([{')\n",
    "    \n",
    "    matches = set([('(',')'),('[',']'),('{','}')])\n",
    "    \n",
    "    stack = []\n",
    "    \n",
    "    for paren in s:\n",
    "        \n",
    "        if paren in opening:\n",
    "            stack.append(paren)\n",
    "        \n",
    "        else:\n",
    "            if len(stack) == 0:\n",
    "                return False\n",
    "        \n",
    "            last_open = stack.pop()\n",
    "            \n",
    "            if (last_open,paren) not in matches:\n",
    "                \n",
    "                print(paren)\n",
    "                \n",
    "        \n",
    "    return len(stack) == 0\n",
    "    "
   ]
  },
  {
   "cell_type": "code",
   "execution_count": 26,
   "metadata": {},
   "outputs": [
    {
     "name": "stdout",
     "output_type": "stream",
     "text": [
      "]\n",
      "}\n"
     ]
    },
    {
     "data": {
      "text/plain": [
       "True"
      ]
     },
     "execution_count": 26,
     "metadata": {},
     "output_type": "execute_result"
    }
   ],
   "source": [
    "balance_check('[{]}')"
   ]
  },
  {
   "cell_type": "code",
   "execution_count": 5,
   "metadata": {},
   "outputs": [
    {
     "name": "stdout",
     "output_type": "stream",
     "text": [
      "('{', '}')\n",
      "('[', ']')\n",
      "('(', ')')\n"
     ]
    }
   ],
   "source": [
    "for i in set([('(',')'),('[',']'),('{','}')]):\n",
    "    print(i)"
   ]
  },
  {
   "cell_type": "code",
   "execution_count": 27,
   "metadata": {},
   "outputs": [],
   "source": [
    "s = '{[]}'"
   ]
  },
  {
   "cell_type": "code",
   "execution_count": 29,
   "metadata": {},
   "outputs": [
    {
     "name": "stdout",
     "output_type": "stream",
     "text": [
      "{\n",
      "[\n",
      "[\n",
      "]\n",
      "{\n",
      "}\n"
     ]
    }
   ],
   "source": [
    "a = set('([{')\n",
    "\n",
    "b = set([('(',')'),('[',']'),('{','}')])\n",
    "\n",
    "stack = []\n",
    "\n",
    "for paren in s:\n",
    "    \n",
    "    if paren in a:\n",
    "        print(paren)\n",
    "        stack.append(paren)\n",
    "    \n",
    "    else:\n",
    "        if len(stack) == 0:\n",
    "            print('No')\n",
    "        \n",
    "        last_open = stack.pop()\n",
    "        print(last_open)\n",
    "        if (last_open,paren) in b:\n",
    "            \n",
    "            print(paren)\n"
   ]
  },
  {
   "cell_type": "code",
   "execution_count": null,
   "metadata": {},
   "outputs": [],
   "source": []
  }
 ],
 "metadata": {
  "kernelspec": {
   "display_name": "Python 3",
   "language": "python",
   "name": "python3"
  },
  "language_info": {
   "codemirror_mode": {
    "name": "ipython",
    "version": 3
   },
   "file_extension": ".py",
   "mimetype": "text/x-python",
   "name": "python",
   "nbconvert_exporter": "python",
   "pygments_lexer": "ipython3",
   "version": "3.7.6"
  }
 },
 "nbformat": 4,
 "nbformat_minor": 4
}
